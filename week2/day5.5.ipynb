{
 "cells": [
  {
   "cell_type": "markdown",
   "id": "e81957b0-e166-4b26-8c12-084e860ecb0f",
   "metadata": {},
   "source": [
    "### Goals\n",
    "\n",
    "1. Add more Tools / Agents to enhance capabilities\n",
    "   - Add Another Tool for booking\n",
    "2. Add an Agent that translates all responses to a different language and shows on the right side, try with different Frontier Model\n",
    "3. Add and Agent that can listen for Audio and convert it to Text"
   ]
  },
  {
   "cell_type": "markdown",
   "id": "e13dc9a3-6592-47e0-be5b-2f24a6932958",
   "metadata": {},
   "source": [
    "# Add More Tools"
   ]
  },
  {
   "cell_type": "code",
   "execution_count": 1,
   "id": "90b28b79-1053-4b7b-98f1-3a8b7d693a9f",
   "metadata": {},
   "outputs": [],
   "source": [
    "import os\n",
    "import json\n",
    "from dotenv import load_dotenv\n",
    "from openai import OpenAI\n",
    "import gradio as gr"
   ]
  },
  {
   "cell_type": "code",
   "execution_count": 2,
   "id": "959a18cf-9aa1-4e8e-865f-1acef5768ebf",
   "metadata": {},
   "outputs": [],
   "source": [
    "load_dotenv(override=True)\n",
    "\n",
    "openai_api_key = os.getenv('OPENAI_API_KEY')"
   ]
  },
  {
   "cell_type": "code",
   "execution_count": 3,
   "id": "794b5fe8-7def-40f8-bb23-c125d6ce1ae6",
   "metadata": {},
   "outputs": [],
   "source": [
    "MODEL = \"gpt-4o-mini\"\n",
    "openai = OpenAI()"
   ]
  },
  {
   "cell_type": "code",
   "execution_count": 6,
   "id": "f367b5d6-a884-4115-8b22-b1fb1f9c4c6f",
   "metadata": {},
   "outputs": [],
   "source": [
    "system_message = \"You are a helpful assistant for an Airline called FlightAI. \"\n",
    "system_message += \"Give short, courteous answers, no more than 1 sentence. \"\n",
    "system_message += \"Always be accurate. If you don't know the answer, say so.\""
   ]
  },
  {
   "cell_type": "code",
   "execution_count": 7,
   "id": "066ee5c8-25ca-4352-ae98-f43bf41c6884",
   "metadata": {},
   "outputs": [],
   "source": [
    "### Price Tool\n",
    "\n",
    "ticket_prices = {\"london\": \"$799\", \"paris\": \"$899\", \"tokyo\": \"$1400\", \"berlin\": \"$499\"}\n",
    "\n",
    "def get_ticket_price(destination_city):\n",
    "    print(f\"Tool get_ticket_price called for {destination_city}\")\n",
    "    city = destination_city.lower()\n",
    "    return ticket_prices.get(city, \"Unknown\")\n",
    "\n",
    "price_function = {\n",
    "    \"name\": \"get_ticket_price\",\n",
    "    \"description\": \"Get the price of a return ticket to the destination city. Call this whenever you need to know the ticket price, for example when a customer asks 'How much is a ticket to this city'\",\n",
    "    \"parameters\": {\n",
    "        \"type\": \"object\",\n",
    "        \"properties\": {\n",
    "            \"destination_city\": {\n",
    "                \"type\": \"string\",\n",
    "                \"description\": \"The city that the customer wants to travel to\",\n",
    "            },\n",
    "        },\n",
    "        \"required\": [\"destination_city\"],\n",
    "        \"additionalProperties\": False\n",
    "    }\n",
    "}"
   ]
  },
  {
   "cell_type": "code",
   "execution_count": 8,
   "id": "c3f436c8-031d-46e1-a0d5-131aa75decfe",
   "metadata": {},
   "outputs": [],
   "source": [
    "### Handle Price Tool\n",
    "\n",
    "def handle_price_tool_call(message):\n",
    "    tool_call = message.tool_calls[0]\n",
    "    arguments = json.loads(tool_call.function.arguments)\n",
    "    city = arguments.get('destination_city')\n",
    "    price = get_ticket_price(city)\n",
    "    response = {\n",
    "        \"role\": \"tool\",\n",
    "        \"content\": json.dumps({\"destination_city\": city,\"price\": price}),\n",
    "        \"tool_call_id\": tool_call.id\n",
    "    }\n",
    "    return response, city"
   ]
  },
  {
   "cell_type": "code",
   "execution_count": 9,
   "id": "15d78414-a738-4a76-a94f-f602c982c0b0",
   "metadata": {},
   "outputs": [],
   "source": [
    "### Booking Tool\n",
    "\n",
    "def book_flight():\n",
    "    print(\"Ticket has been booked\")\n",
    "    return {'status': 200}\n",
    "\n",
    "book_function = {\n",
    "    \"name\": \"book_flight\",\n",
    "    \"description\": \"Book a flight for a destination. Call this whenever the user requests to book the flight, for example when a customer asks 'Can you help me book tihs flight?'\",\n",
    "    \"parameters\": {}\n",
    "}"
   ]
  },
  {
   "cell_type": "code",
   "execution_count": 10,
   "id": "9dc52ab2-9952-475f-a7ff-2ae617f57844",
   "metadata": {},
   "outputs": [],
   "source": [
    "def handle_book_flight_call(message):\n",
    "    tool_call = message.tool_calls[0]\n",
    "    status = book_flight()\n",
    "    response = {\n",
    "        \"role\": \"tool\",\n",
    "        \"content\": json.dumps({\"status\": \"Ticket has been booked\"}),\n",
    "        \"tool_call_id\": tool_call.id\n",
    "    }\n",
    "    return response, status"
   ]
  },
  {
   "cell_type": "code",
   "execution_count": 11,
   "id": "8d942376-b720-45cd-a3f1-7fd242bbbe14",
   "metadata": {},
   "outputs": [],
   "source": [
    "tools = [{\"type\": \"function\", \"function\": price_function}, {\"type\": \"function\", \"function\": book_function}]"
   ]
  },
  {
   "cell_type": "code",
   "execution_count": 12,
   "id": "a23dfd22-66e6-4f1b-bfc5-0aecab696264",
   "metadata": {},
   "outputs": [],
   "source": [
    "def chat(message, history):\n",
    "    messages = [{\"role\": \"system\", \"content\": system_message}] + history + [{\"role\": \"user\", \"content\": message}]\n",
    "    response = openai.chat.completions.create(model=MODEL, messages=messages, tools=tools)\n",
    "    \n",
    "    if response.choices[0].finish_reason==\"tool_calls\":\n",
    "        if response.choices[0].message.tool_calls[0].function.name==\"get_ticket_price\":\n",
    "            message = response.choices[0].message\n",
    "            response, city = handle_price_tool_call(message)\n",
    "            messages.append(message)\n",
    "            messages.append(response)\n",
    "            response = openai.chat.completions.create(model=MODEL, messages=messages)\n",
    "        elif response.choices[0].message.tool_calls[0].function.name==\"book_flight\":\n",
    "            message = response.choices[0].message\n",
    "            response, status = handle_book_flight_call(message)\n",
    "            messages.append(message)\n",
    "            messages.append(response)\n",
    "            response = openai.chat.completions.create(model=MODEL, messages=messages)\n",
    "    \n",
    "    return response.choices[0].message.content"
   ]
  },
  {
   "cell_type": "code",
   "execution_count": 13,
   "id": "69061291",
   "metadata": {},
   "outputs": [
    {
     "name": "stdout",
     "output_type": "stream",
     "text": [
      "Ticket has been booked\n"
     ]
    },
    {
     "data": {
      "text/plain": [
       "'Your flight to Paris has been successfully booked!'"
      ]
     },
     "execution_count": 13,
     "metadata": {},
     "output_type": "execute_result"
    }
   ],
   "source": [
    "chat(\"Great, can you help me book the flight?\", \n",
    "    [\n",
    "        {\"role\": \"user\", \"content\": \"Hi, how's it going?\"}, \n",
    "        {\"role\": \"assistant\", \"content\": \"Hello! I'm here to help you with your travel needs. How can I assist you today?\"},\n",
    "        {\"role\": \"user\", \"content\": \"How about Paris?\"}, \n",
    "        {\"role\": \"assistant\", \"content\": \"Could you please specify what information you would like about Paris?\"},\n",
    "        {\"role\": \"user\", \"content\": \"What are things to see there?\"}, \n",
    "        {\"role\": \"assistant\", \"content\": \"In Paris, you can explore the Eiffel Tower, the Louvre Museum, Notre-Dame Cathedral, Montmartre, and enjoy a stroll along the Seine River.\"},\n",
    "        {\"role\": \"user\", \"content\": \"Can you tell me the ticket price for a flight to Paris?\"}, \n",
    "        {\"role\": \"assistant\", \"content\": \"The ticket price for a flight to Paris is approximately $899.\"}        \n",
    "    ]\n",
    ")"
   ]
  },
  {
   "cell_type": "code",
   "execution_count": null,
   "id": "161e745d-f380-4c17-bd86-9c26b43b6b34",
   "metadata": {},
   "outputs": [
    {
     "name": "stdout",
     "output_type": "stream",
     "text": [
      "* Running on local URL:  http://127.0.0.1:7860\n",
      "* To create a public link, set `share=True` in `launch()`.\n"
     ]
    },
    {
     "data": {
      "text/html": [
       "<div><iframe src=\"http://127.0.0.1:7860/\" width=\"100%\" height=\"500\" allow=\"autoplay; camera; microphone; clipboard-read; clipboard-write;\" frameborder=\"0\" allowfullscreen></iframe></div>"
      ],
      "text/plain": [
       "<IPython.core.display.HTML object>"
      ]
     },
     "metadata": {},
     "output_type": "display_data"
    },
    {
     "data": {
      "text/plain": []
     },
     "execution_count": 11,
     "metadata": {},
     "output_type": "execute_result"
    },
    {
     "name": "stdout",
     "output_type": "stream",
     "text": [
      "Tool get_ticket_price called for Paris\n",
      "Ticket has been booked\n"
     ]
    }
   ],
   "source": [
    "gr.ChatInterface(fn=chat, type=\"messages\").launch()"
   ]
  },
  {
   "cell_type": "markdown",
   "id": "83f60900-e6b4-4e4d-8008-334207e10550",
   "metadata": {},
   "source": [
    "# Add Tool Functionality with Cluade"
   ]
  },
  {
   "cell_type": "code",
   "execution_count": 12,
   "id": "b23eed4f-9212-414c-8f70-89a72eca9973",
   "metadata": {},
   "outputs": [],
   "source": [
    "import os\n",
    "import json\n",
    "from dotenv import load_dotenv\n",
    "import anthropic\n",
    "import gradio as gr"
   ]
  },
  {
   "cell_type": "code",
   "execution_count": 14,
   "id": "830cb0c5-688b-4394-8010-2736b5d0b874",
   "metadata": {},
   "outputs": [],
   "source": [
    "load_dotenv(override=True)\n",
    "\n",
    "anthropic_api_key = os.getenv('ANTHROPIC_API_KEY')\n",
    "MODEL = \"claude-3-7-sonnet-latest\"\n",
    "client = anthropic.Anthropic(api_key=anthropic_api_key)"
   ]
  },
  {
   "cell_type": "code",
   "execution_count": 60,
   "id": "aabaa172-a576-4c2c-8eaf-2957603e7cee",
   "metadata": {},
   "outputs": [],
   "source": [
    "system_message = \"You are a helpful assistant for an Airline called FlightAI. \"\n",
    "system_message += \"Give short, courteous answers, no more than 1 sentence. \"\n",
    "system_message += \"Always be accurate. If you don't know the answer, say so.\"\n",
    "system_message += \"The user will send all messages in English. Respond only in Spanish.\""
   ]
  },
  {
   "cell_type": "code",
   "execution_count": 33,
   "id": "aa4e2583-5505-40ab-9aac-36b5e539b984",
   "metadata": {
    "scrolled": true
   },
   "outputs": [
    {
     "name": "stdout",
     "output_type": "stream",
     "text": [
      "* Running on local URL:  http://127.0.0.1:7873\n",
      "* To create a public link, set `share=True` in `launch()`.\n"
     ]
    },
    {
     "data": {
      "text/html": [
       "<div><iframe src=\"http://127.0.0.1:7873/\" width=\"100%\" height=\"500\" allow=\"autoplay; camera; microphone; clipboard-read; clipboard-write;\" frameborder=\"0\" allowfullscreen></iframe></div>"
      ],
      "text/plain": [
       "<IPython.core.display.HTML object>"
      ]
     },
     "metadata": {},
     "output_type": "display_data"
    },
    {
     "data": {
      "text/plain": []
     },
     "execution_count": 33,
     "metadata": {},
     "output_type": "execute_result"
    }
   ],
   "source": [
    "## Antropic version of chat function\n",
    "history_store = []\n",
    "\n",
    "def chat(message, history):\n",
    "    global history_store\n",
    "\n",
    "    # Convert Gradio's history format to Anthropic format\n",
    "    messages = []\n",
    "    for turn in history_store:\n",
    "        messages.append({\"role\": \"user\", \"content\": turn[\"user\"]})\n",
    "        messages.append({\"role\": \"assistant\", \"content\": turn[\"assistant\"]})\n",
    "\n",
    "    messages.append({\"role\": \"user\", \"content\": message})\n",
    "    \n",
    "    response = client.messages.create(system=system_message, model=MODEL, max_tokens=1024, messages=messages)\n",
    "\n",
    "    assistant_response = \"\"\n",
    "    \n",
    "    for block in response.content:\n",
    "        if block.type == \"text\":\n",
    "            assistant_response += block.text    \n",
    "\n",
    "    history_store.append({\"user\": message, \"assistant\": assistant_response})\n",
    "    \n",
    "    return assistant_response\n",
    "\n",
    "gr.ChatInterface(fn=chat, type=\"messages\").launch()"
   ]
  },
  {
   "cell_type": "code",
   "execution_count": null,
   "id": "60a5484e-dfed-4f8f-8a76-670018ac56d8",
   "metadata": {},
   "outputs": [
    {
     "name": "stdout",
     "output_type": "stream",
     "text": [
      "* Running on local URL:  http://127.0.0.1:7897\n",
      "* To create a public link, set `share=True` in `launch()`.\n"
     ]
    },
    {
     "data": {
      "text/html": [
       "<div><iframe src=\"http://127.0.0.1:7897/\" width=\"100%\" height=\"500\" allow=\"autoplay; camera; microphone; clipboard-read; clipboard-write;\" frameborder=\"0\" allowfullscreen></iframe></div>"
      ],
      "text/plain": [
       "<IPython.core.display.HTML object>"
      ]
     },
     "metadata": {},
     "output_type": "display_data"
    },
    {
     "data": {
      "text/plain": []
     },
     "execution_count": 62,
     "metadata": {},
     "output_type": "execute_result"
    },
    {
     "name": "stdout",
     "output_type": "stream",
     "text": [
      "Tool get_ticket_price called for Paris\n",
      "Ticket has been booked\n"
     ]
    }
   ],
   "source": [
    "## With Tools\n",
    "tools = [\n",
    "    {\n",
    "        \"name\": \"get_ticket_price\",\n",
    "        \"description\": \"Get the price of a return ticket to the destination city. Call this whenever you need to know the ticket price, for example when a customer asks 'How much is a ticket to this city'\",\n",
    "        \"input_schema\": {\n",
    "            \"type\": \"object\",\n",
    "            \"properties\": {\n",
    "                \"destination_city\": {\n",
    "                    \"type\": \"string\",\n",
    "                    \"description\": \"The city that the customer wants to travel to\"\n",
    "                }\n",
    "            },\n",
    "            \"required\": [\"destination_city\"]\n",
    "        }\n",
    "    },\n",
    "    {\n",
    "        \"name\": \"book_flight\",\n",
    "        \"description\": \"Book a flight for a destination. Call this whenever the user requests to book the flight, for example when a customer asks 'Can you help me book this flight?'\",\n",
    "        \"input_schema\": {\n",
    "            \"type\": \"object\",\n",
    "            \"properties\": {\n",
    "                \"destination_city\": {\n",
    "                    \"type\": \"string\",\n",
    "                    \"description\": \"The city that the customer wants to travel to\"\n",
    "                }\n",
    "            },\n",
    "            \"required\": [\"destination_city\"]\n",
    "        }\n",
    "    }    \n",
    "]\n",
    "\n",
    "def execute_tool(name, input_data):\n",
    "    if name == \"get_ticket_price\":\n",
    "        ticket_prices = {\"london\": \"$799\", \"paris\": \"$899\", \"tokyo\": \"$1400\", \"berlin\": \"$499\"}\n",
    "        city = input_data.get(\"destination_city\", \"Unknown City\")\n",
    "        print(f\"Tool get_ticket_price called for {city}\")\n",
    "        city = city.lower()\n",
    "        price = ticket_prices.get(city, \"Unknown\")\n",
    "        # return {\"destination_city\": city,\"price\": price}\n",
    "        return f\"The ticket for a flight to {city} is {price}\"\n",
    "    elif name == \"book_flight\":\n",
    "        print(\"Ticket has been booked\")\n",
    "        # return {\"ticket_status\": \"Successfully booked\"}\n",
    "        return \"Ticket has been booked\"\n",
    "\n",
    "history_store = []\n",
    "\n",
    "def chat(message, history):\n",
    "    global history_store\n",
    "\n",
    "    # Convert Gradio's history format to Anthropic format\n",
    "    messages = []\n",
    "    for turn in history_store:\n",
    "        messages.append({\"role\": \"user\", \"content\": turn[\"user\"]})\n",
    "        messages.append({\"role\": \"assistant\", \"content\": turn[\"assistant\"]})\n",
    "\n",
    "    messages.append({\"role\": \"user\", \"content\": message})\n",
    "    \n",
    "    response = client.messages.create(system=system_message, model=MODEL, max_tokens=1024, tools=tools, messages=messages)\n",
    "\n",
    "    assistant_response = \"\"\n",
    "    tool_call = None\n",
    "    \n",
    "    for block in response.content:\n",
    "        if block.type == \"text\":\n",
    "            assistant_response += block.text   \n",
    "        elif block.type == \"tool_use\":\n",
    "            tool_call = block        \n",
    "\n",
    "   # If tool is requested\n",
    "    if tool_call:\n",
    "        tool_result_data = execute_tool(tool_call.name, tool_call.input)\n",
    "\n",
    "        # Send tool output back to Claude\n",
    "        tool_followup = client.messages.create(\n",
    "            model=MODEL,\n",
    "            system=system_message,\n",
    "            max_tokens=1024,\n",
    "            messages=[\n",
    "                *messages,\n",
    "                {\n",
    "                    \"role\": \"assistant\",\n",
    "                    \"content\": [\n",
    "                        {\n",
    "                            \"type\": \"tool_use\",\n",
    "                            \"id\": tool_call.id,\n",
    "                            \"name\": tool_call.name,\n",
    "                            \"input\": tool_call.input\n",
    "                        }\n",
    "                    ]\n",
    "                },\n",
    "                {\n",
    "                    \"role\": \"user\",\n",
    "                    \"content\": [\n",
    "                        {\n",
    "                            \"type\": \"tool_result\",\n",
    "                            \"tool_use_id\": tool_call.id,\n",
    "                            \"content\": tool_result_data\n",
    "                        }\n",
    "                    ]\n",
    "                }\n",
    "            ]\n",
    "        )\n",
    "        \n",
    "        assistant_response = \"\".join(\n",
    "            block.text for block in tool_followup.content if block.type == \"text\"\n",
    "        )        \n",
    "\n",
    "    history_store.append({\"user\": message, \"assistant\": assistant_response})\n",
    "    \n",
    "    return assistant_response\n",
    "\n",
    "gr.ChatInterface(fn=chat, type=\"messages\").launch()"
   ]
  },
  {
   "cell_type": "markdown",
   "id": "fc7b5917-a3c4-4685-94eb-56da11d7d1bd",
   "metadata": {},
   "source": [
    "# Add translation functionality"
   ]
  },
  {
   "cell_type": "markdown",
   "id": "7683ca81-b7f7-4e92-a496-37eafdbe9cb0",
   "metadata": {},
   "source": [
    "Here, what I want to do is very simply copy the same functionality from OpenAI's chat, but just add an additional part which also translates and just adds the translation to a new line. Example below:\n",
    "\n",
    "```\n",
    "import gradio as gr\n",
    "from transformers import pipeline\n",
    "\n",
    "# Initialize translation pipeline (English to French)\n",
    "translator = pipeline(\"translation\", model=\"Helsinki-NLP/opus-mt-en-fr\")\n",
    "\n",
    "# Main chatbot response function\n",
    "def respond(message, history):\n",
    "    # Simulate LLM response (you can replace this with OpenAI or other LLM API call)\n",
    "    llm_response = f\"You said: {message}\"\n",
    "\n",
    "    # Translate the response to French\n",
    "    translation = translator(llm_response, max_length=100)[0]['translation_text']\n",
    "\n",
    "    # Combine original and translated response\n",
    "    full_response = f\"{llm_response}\\n\\n_Translated:_ {translation}\"\n",
    "\n",
    "    return full_response\n",
    "\n",
    "# Gradio ChatInterface\n",
    "chat = gr.ChatInterface(fn=respond, \n",
    "                        title=\"Bilingual Chat\",\n",
    "                        description=\"This chatbot replies and also translates its responses to French.\")\n",
    "\n",
    "chat.launch()\n",
    "```\n"
   ]
  },
  {
   "cell_type": "code",
   "execution_count": 1,
   "id": "8d91b71d-0280-4a1c-ba11-c9c63b0cf67c",
   "metadata": {},
   "outputs": [],
   "source": [
    "import os\n",
    "import json\n",
    "from dotenv import load_dotenv\n",
    "from openai import OpenAI\n",
    "import gradio as gr"
   ]
  },
  {
   "cell_type": "code",
   "execution_count": 2,
   "id": "a235545b-499f-47a4-b44f-87b7e0fcac77",
   "metadata": {},
   "outputs": [],
   "source": [
    "load_dotenv(override=True)\n",
    "\n",
    "openai_api_key = os.getenv('OPENAI_API_KEY')"
   ]
  },
  {
   "cell_type": "code",
   "execution_count": 11,
   "id": "6ec95a5a",
   "metadata": {},
   "outputs": [],
   "source": [
    "MODEL = \"gpt-4o-mini\"\n",
    "openai = OpenAI()"
   ]
  },
  {
   "cell_type": "code",
   "execution_count": 33,
   "id": "b2ee7a16",
   "metadata": {},
   "outputs": [],
   "source": [
    "system_message = \"You are a helpful assistant for an Airline called FlightAI. \"\n",
    "system_message += \"Give short, courteous answers, no more than 1 sentence. \"\n",
    "system_message += \"Always be accurate. If you don't know the answer, say so.\"\n",
    "system_message += \"You are also trying to teach Spanish. The user will se sending their english and spanish translation.\"\n",
    "system_message += \"Always reply back with an English and Spanish version of the response like this:\"\n",
    "system_message += \"Response: {English response}\"\n",
    "system_message += \"Translated: {Spanish response}\""
   ]
  },
  {
   "cell_type": "code",
   "execution_count": 34,
   "id": "4b6e8441",
   "metadata": {},
   "outputs": [],
   "source": [
    "### Price Tool\n",
    "\n",
    "ticket_prices = {\"london\": \"$799\", \"paris\": \"$899\", \"tokyo\": \"$1400\", \"berlin\": \"$499\"}\n",
    "\n",
    "def get_ticket_price(destination_city):\n",
    "    print(f\"Tool get_ticket_price called for {destination_city}\")\n",
    "    city = destination_city.lower()\n",
    "    return ticket_prices.get(city, \"Unknown\")\n",
    "\n",
    "price_function = {\n",
    "    \"name\": \"get_ticket_price\",\n",
    "    \"description\": \"Get the price of a return ticket to the destination city. Call this whenever you need to know the ticket price, for example when a customer asks 'How much is a ticket to this city'\",\n",
    "    \"parameters\": {\n",
    "        \"type\": \"object\",\n",
    "        \"properties\": {\n",
    "            \"destination_city\": {\n",
    "                \"type\": \"string\",\n",
    "                \"description\": \"The city that the customer wants to travel to\",\n",
    "            },\n",
    "        },\n",
    "        \"required\": [\"destination_city\"],\n",
    "        \"additionalProperties\": False\n",
    "    }\n",
    "}"
   ]
  },
  {
   "cell_type": "code",
   "execution_count": 35,
   "id": "1d91c084",
   "metadata": {},
   "outputs": [],
   "source": [
    "### Handle Price Tool\n",
    "\n",
    "def handle_price_tool_call(message):\n",
    "    tool_call = message.tool_calls[0]\n",
    "    arguments = json.loads(tool_call.function.arguments)\n",
    "    city = arguments.get('destination_city')\n",
    "    price = get_ticket_price(city)\n",
    "    response = {\n",
    "        \"role\": \"tool\",\n",
    "        \"content\": json.dumps({\"destination_city\": city,\"price\": price}),\n",
    "        \"tool_call_id\": tool_call.id\n",
    "    }\n",
    "    return response, city"
   ]
  },
  {
   "cell_type": "code",
   "execution_count": 36,
   "id": "750338cf",
   "metadata": {},
   "outputs": [],
   "source": [
    "### Booking Tool\n",
    "\n",
    "def book_flight():\n",
    "    print(\"Ticket has been booked\")\n",
    "    return {'status': 200}\n",
    "\n",
    "book_function = {\n",
    "    \"name\": \"book_flight\",\n",
    "    \"description\": \"Book a flight for a destination. Call this whenever the user requests to book the flight, for example when a customer asks 'Can you help me book tihs flight?'\",\n",
    "    \"parameters\": {}\n",
    "}"
   ]
  },
  {
   "cell_type": "code",
   "execution_count": 37,
   "id": "8b240fbf",
   "metadata": {},
   "outputs": [],
   "source": [
    "def handle_book_flight_call(message):\n",
    "    tool_call = message.tool_calls[0]\n",
    "    status = book_flight()\n",
    "    response = {\n",
    "        \"role\": \"tool\",\n",
    "        \"content\": json.dumps({\"status\": \"Ticket has been booked\"}),\n",
    "        \"tool_call_id\": tool_call.id\n",
    "    }\n",
    "    return response, status"
   ]
  },
  {
   "cell_type": "code",
   "execution_count": 38,
   "id": "854fbefe",
   "metadata": {},
   "outputs": [],
   "source": [
    "tools = [{\"type\": \"function\", \"function\": price_function}, {\"type\": \"function\", \"function\": book_function}]"
   ]
  },
  {
   "cell_type": "code",
   "execution_count": null,
   "id": "7c19ac62",
   "metadata": {},
   "outputs": [],
   "source": [
    "def chat(message, history):\n",
    "    messages = [{\"role\": \"system\", \"content\": system_message}] + history + [{\"role\": \"user\", \"content\": message}]\n",
    "    response = openai.chat.completions.create(model=MODEL, messages=messages, tools=tools)\n",
    "    \n",
    "    if response.choices[0].finish_reason==\"tool_calls\":\n",
    "        if response.choices[0].message.tool_calls[0].function.name==\"get_ticket_price\":\n",
    "            message = response.choices[0].message\n",
    "            response, city = handle_price_tool_call(message)\n",
    "            messages.append(message)\n",
    "            messages.append(response)\n",
    "            response = openai.chat.completions.create(model=MODEL, messages=messages)\n",
    "        elif response.choices[0].message.tool_calls[0].function.name==\"book_flight\":\n",
    "            message = response.choices[0].message \n",
    "            response, status = handle_book_flight_call(message)\n",
    "            messages.append(message)\n",
    "            messages.append(response)\n",
    "            response = openai.chat.completions.create(model=MODEL, messages=messages)\n",
    "    \n",
    "    return response.choices[0].message.content"
   ]
  },
  {
   "cell_type": "code",
   "execution_count": null,
   "id": "0f9a8bdc",
   "metadata": {},
   "outputs": [
    {
     "name": "stdout",
     "output_type": "stream",
     "text": [
      "* Running on local URL:  http://127.0.0.1:7876\n",
      "* To create a public link, set `share=True` in `launch()`.\n"
     ]
    },
    {
     "data": {
      "text/html": [
       "<div><iframe src=\"http://127.0.0.1:7876/\" width=\"100%\" height=\"500\" allow=\"autoplay; camera; microphone; clipboard-read; clipboard-write;\" frameborder=\"0\" allowfullscreen></iframe></div>"
      ],
      "text/plain": [
       "<IPython.core.display.HTML object>"
      ]
     },
     "metadata": {},
     "output_type": "display_data"
    },
    {
     "data": {
      "text/plain": []
     },
     "execution_count": 40,
     "metadata": {},
     "output_type": "execute_result"
    },
    {
     "name": "stdout",
     "output_type": "stream",
     "text": [
      "Tool get_ticket_price called for Paris\n",
      "Ticket has been booked\n"
     ]
    }
   ],
   "source": [
    "gr.ChatInterface(fn=chat, type=\"messages\").launch()"
   ]
  },
  {
   "cell_type": "markdown",
   "id": "5fef2aaf",
   "metadata": {},
   "source": [
    "# Agent to listen for Audio and convert to Text"
   ]
  },
  {
   "cell_type": "code",
   "execution_count": 11,
   "id": "b5ecba4f",
   "metadata": {},
   "outputs": [
    {
     "name": "stdout",
     "output_type": "stream",
     "text": [
      "Recording...\n",
      "Recording complete. Saving file...\n",
      "File saved as: recording.wav\n"
     ]
    }
   ],
   "source": [
    "import sounddevice as sd\n",
    "from scipy.io.wavfile import write\n",
    "\n",
    "\n",
    "sd.default.device = 1 ## Sets the recording device to my microphone\n",
    "\n",
    "# Settings\n",
    "samplerate = 44100  # 44.1 kHz\n",
    "duration = 5        # seconds\n",
    "filename = \"recording.wav\"\n",
    "\n",
    "print(\"Recording...\")\n",
    "audio_data = sd.rec(int(duration * samplerate), samplerate=samplerate, channels=2, dtype='int16')\n",
    "sd.wait()  # Wait until recording is finished\n",
    "print(\"Recording complete. Saving file...\")\n",
    "\n",
    "write(filename, samplerate, audio_data)  # Save as WAV file\n",
    "print(f\"File saved as: {filename}\")\n"
   ]
  },
  {
   "cell_type": "code",
   "execution_count": 12,
   "id": "a85a94fa",
   "metadata": {},
   "outputs": [],
   "source": [
    "audio_file = open(\"recording.wav\", \"rb\")\n",
    "transcript = openai.audio.transcriptions.create(\n",
    "  model=\"gpt-4o-transcribe\",\n",
    "  file=audio_file\n",
    ")"
   ]
  },
  {
   "cell_type": "markdown",
   "id": "911bc28e",
   "metadata": {},
   "source": []
  },
  {
   "cell_type": "code",
   "execution_count": 13,
   "id": "852ace03",
   "metadata": {},
   "outputs": [
    {
     "data": {
      "text/plain": [
       "\"Let's go Yankees.\""
      ]
     },
     "execution_count": 13,
     "metadata": {},
     "output_type": "execute_result"
    }
   ],
   "source": [
    "transcript.text"
   ]
  },
  {
   "cell_type": "markdown",
   "id": "f8826698",
   "metadata": {},
   "source": [
    "# Test Summarize"
   ]
  },
  {
   "cell_type": "code",
   "execution_count": 16,
   "id": "9ff14c9f",
   "metadata": {},
   "outputs": [],
   "source": [
    "from pydub import AudioSegment\n",
    "import os\n",
    "\n",
    "def chunk_m4a_audio(input_file, output_dir, chunk_length_sec=30):\n",
    "    \"\"\"\n",
    "    Splits an .m4a audio file into multiple chunks.\n",
    "\n",
    "    Parameters:\n",
    "    - input_file: str, path to the input .m4a file\n",
    "    - output_dir: str, directory to save output chunks\n",
    "    - chunk_length_sec: int, chunk size in seconds (default: 30s)\n",
    "    \n",
    "    Returns:\n",
    "    - List of output chunk file paths\n",
    "    \"\"\"\n",
    "    # Ensure output directory exists\n",
    "    os.makedirs(output_dir, exist_ok=True)\n",
    "\n",
    "    print(f\"🔄 Loading audio file: {input_file}\")\n",
    "    audio = AudioSegment.from_file(input_file, format=\"m4a\")\n",
    "    total_length = len(audio)\n",
    "    chunk_length_ms = chunk_length_sec * 1000\n",
    "\n",
    "    print(f\"📏 Total audio length: {total_length / 1000:.2f} seconds\")\n",
    "    chunk_paths = []\n",
    "\n",
    "    for i in range(0, total_length, chunk_length_ms):\n",
    "        chunk = audio[i:i + chunk_length_ms]\n",
    "        chunk_filename = f\"chunk_{i // chunk_length_ms:04d}.m4a\"\n",
    "        chunk_path = os.path.join(output_dir, chunk_filename)\n",
    "        chunk.export(chunk_path, format=\"mp4\")\n",
    "        print(f\"✅ Exported: {chunk_path} ({len(chunk) / 1000:.2f}s)\")\n",
    "        chunk_paths.append(chunk_path)\n",
    "\n",
    "    print(\"🎉 Chunking complete.\")\n",
    "    return chunk_paths\n"
   ]
  },
  {
   "cell_type": "code",
   "execution_count": 17,
   "id": "147a9e91",
   "metadata": {},
   "outputs": [
    {
     "name": "stdout",
     "output_type": "stream",
     "text": [
      "🔄 Loading audio file: D:\\python-development\\udemy_llms\\llm_engineering\\week2\\audio\\inputfiles\\AFCNorthBreakdown.m4a\n",
      "📏 Total audio length: 3382.36 seconds\n",
      "✅ Exported: C:\\test\\chunk_0000.m4a (1200.00s)\n",
      "✅ Exported: C:\\test\\chunk_0001.m4a (1200.00s)\n",
      "✅ Exported: C:\\test\\chunk_0002.m4a (982.36s)\n",
      "🎉 Chunking complete.\n"
     ]
    }
   ],
   "source": [
    "chunk_paths = chunk_m4a_audio(\n",
    "    input_file=r\"D:\\python-development\\udemy_llms\\llm_engineering\\week2\\audio\\inputfiles\\AFCNorthBreakdown.m4a\", \n",
    "    output_dir=r\"C:\\test\",\n",
    "    chunk_length_sec=1200\n",
    "    )"
   ]
  },
  {
   "cell_type": "code",
   "execution_count": 12,
   "id": "8e9730eb",
   "metadata": {},
   "outputs": [],
   "source": [
    "audio_file = open(r\".\\audio\\outputfiles\\chunk_0002.m4a\", \"rb\")\n",
    "transcript = openai.audio.transcriptions.create(\n",
    "  model=\"gpt-4o-transcribe\",\n",
    "  file=audio_file\n",
    ")"
   ]
  },
  {
   "cell_type": "code",
   "execution_count": 13,
   "id": "3b9d7de6",
   "metadata": {},
   "outputs": [
    {
     "data": {
      "text/plain": [
       "\"...for 93 targets and he caught 86% of them for 8 yards of reception. I mean, he was just so valuable to Joe Burrow in that check down game and I don't see that going away. Like from week 4 through 17, because he didn't play week 18. From weeks 4 through 17, he has one game under 10 points. And you have multiple smash games in there. I love Chase Brown this year. Just circling back to test my theory here and get your opinions. All right. T. Higgins' current ADP relative to some of these other players. You like Garrett Wilson more or you like T. Higgins more? Higgins. Oh, man. Garrett Wilson was slightly better in consistency last year percentage-wise, but is a couple picks later. You like Higgins, Mike? I think we'd all like him over McLaurin. Yeah. Who's going later? Marvin Harrison Jr. is going later. I'll still take Higgins. Evans, Devante Adams, a couple of the older guys, DJ Morashi Rice. Yeah. It doesn't seem... It's high risk, but very high reward. Yeah, I don't see a bunch of wide receiver names behind Higgins that I like more than Higgins. So maybe that is... Going in the right spot, but he is... Maybe it's just the right temperature to handle. He is hot and you might burn your hand, or if you're cold, this might feel real nice. It's funny because this is... It's a hand warmer? It's like a mug. He's just like Goldilocks in this thing. Look, this is the highest he's ever gone in his career. His ADP? Yes, that's worth saying. That is... I mean, he has never gone higher. So when you talk about laying the palm fronds over the hole... The end of the year was very good for Tee Higgins. And the contract. I mean, and when you look at one of the questions about Cincinnati, too, is what happens if one of these guys gets hurt, which has happened. In fact, it's happened to one of them a lot over the last few years. It's like, is there a third line... More one than the other, but you know. Yeah, I mean, is there a wide receiver in that Tyler Boyd third position that you like a lot? And to me, it's more... Look, they gave Mike Gesicki money. So Gesicki is not somebody I target until one of these guys gets hurt. And then I'm looking at him on free agency and saying, I think I might be able to start him with a team that passes at the level that they pass with the defense that they have. To me, Gesicki is the perfect pivot if one of those guys gets hurt. Yeah, I'm for that. Any other thoughts about the team in terms of range of outcomes for Burrow or anything else you want to mention? The NFL did its best to try and help the Bengals get off to a strong start with the Cleveland Browns and the Jacksonville Jaguars. Just trying to say, like, come on. Of course, they did it last year with the Patriots. I was going to say, going into Cleveland? That's setting them up. I mean, they went into New England a lot, setting them up to go into Cleveland. But yeah, we have Cleveland, Jacksonville, Minnesota, and Denver. Three out of four on the road. So you talk about slow start potential. That's a little worrisome, actually. Two and two, maybe? It sounds like they got to throw a bunch. It does sound like they got to throw a bunch. We'll take a break and we'll talk about Mike's favorite team on the planet. I'm just getting this piece of news after the break here. Kyle letting me know Burrow has won 39% of all games in September. That sounds about right. Feels like a high number compared to our experience. Man. Cleveland was 3-14 last year. And their projected win total going into this season was 8.5. Sean Watson. That didn't work. Got hurt. Tore his Achilles. I heard he's on track for October or something. I don't know why that was in the news, but it was. If I could block Sean Watson news from my feed. I think... Filter it out? If the Cleveland Browns could block Sean Watson news, I think they would. I bet you Stefanski on Twitter... Oh, he's got that filter in there. Oh, he's got him muted. Yeah, he doesn't let Deshaun know, but he's got him muted. 2025 Vegas win totaled it down to 5.5. Yeah, that sounds like they don't think Joe Flacco is starting. We also talk about the outside edges of the strength of schedule. They have the 31st ranked strength of schedule coming up. Wait, does that mean it's bad or good? You don't know for sure. I can see. I assume 31st ranked... It's bad. 31st ranked, I thought that... Okay, it's bad. Yes. Okay. Like bad, like Michael Jackson bad? So bad it's good? It is so difficult. They have a difficult schedule ahead. Man, that's bad. So stupid. You did freeze. You froze for a second. You made me question it for a second. Look, I didn't know the answer. I couldn't remember how we put it in. Their favorite in one game so far. Against two. Yeah, don't put them on blast. That I need to know. Yeah, Kyle, let us know who their favorite against and what fan base should be embarrassed. Is it their bye week? They are favorite in their bye. They're favorite in week 14? Yes. Oh yeah, one and a half point favorites. That's got to be New England or something. At home. Who is it? Tennessee at home. Okay, yeah. All right. Well, look, here's where we're at. 32nd in points per game last year. So we could go up from there. 28th in yards per game and yet number one in pass percentage. So they pass a ton. Jameis, thank you. Jameis. It's wild that you get the number one in pass percentage and number 32 in points per game. Like that is the Jameis experience in some ways. But Stefanski will give it a go again. They got a new offensive coordinator. Jameis is no longer a part of this team. Neither is stalwart Nick Chubb who had been there forever. No more Elijah Moore. But Joe Flacco's there and Kenny Pickett and Deontay Johnson. Ew! Oh man. Did you guys read those Deontay Johnson comments? Yes, about him not wanting to go play when it was cold out. Yeah, of like him explaining why he got suspended. Almost like... Did you see Anthony Richardson replied and was like, I hear you. Bro, I get it. Are you tired or cold? You should probably take a break. But it was just, it was so hilarious. This is Deontay Johnson talking about like, no, no, no. Here's what happened. I didn't want to play because it was cold. I mean, are you guys with me? Are you with me? His, what he was trying to explain was that he felt that his body was cold and he was going to be bad if they put him out there. Right. Because he was looking out for number one. Yeah. He's like, I'm going to put bad tape out there if I go out there. That's probably true. Sometimes you just be like, I don't really want to talk about that. Cleveland has a great defense. They should be able to be in games if they could do anything on offense. We don't know who their quarterback is. And it changes everything. I was going to say that sentence will be uttered weekly. Yeah, but it changes everything for this team. Like because of who their different quarterback options are, it's so wildly different. If Joe Flacco is there, he's going to air it out a ton. If Joe Flacco is the starter week one, Jerry, Judy, David Njoku, these are good options. If it's Kenny Pickett week one, they're bad options. Let's reframe this. Let's try an experiment here, Jason, because every time we talk about Cleveland, it's like the quarterback matters so much. But that might be the trick. That might be the lie. That might be the problem. It's not going to be the same guy all year. So then if we think it matters a lot, and it's the guy we like to start the year, and that means we draft the players that we like because of that quarterback, it will not necessarily be that quarterback for very long. Right. So in that case... Trade them. Yeah, but if you know that Kenny Pickett is taking over Shadur Sanders or Dylan Gabriel, you don't get to trade them. I'm saying if you get the first three weeks of Joe Flacco and Jerry Judy's riding high, you put him on the market. Maybe you could do that with Judy, I agree. But maybe my point being, maybe we want to just avoid and not do the dance. Maybe sometimes you just do that. I am fine avoiding the players on this team, minus Quinchon Judkins. I think he's going to be excellent. He's the Nick Chubb replacement, a very big, athletic, real super athletic back. Who are you talking about? Judkins. I love... I love Jason. Do you like... Let's say they both end up, I don't know, I'll put them both in the fourth or the fifth, whatever. Like Caleb Johnson or Judkins, which direction would you prefer to go? You know, it is funny because you hypothetically said, I'll put them in the fourth or the fifth. That makes the difference for me. I'm saying\""
      ]
     },
     "execution_count": 13,
     "metadata": {},
     "output_type": "execute_result"
    }
   ],
   "source": [
    "transcript.text"
   ]
  },
  {
   "cell_type": "code",
   "execution_count": 14,
   "id": "71f37da0",
   "metadata": {},
   "outputs": [],
   "source": [
    "complete_output += \" \" + transcript.text"
   ]
  },
  {
   "cell_type": "code",
   "execution_count": 15,
   "id": "8ece88d2",
   "metadata": {},
   "outputs": [
    {
     "data": {
      "text/plain": [
       "\"Welcome in. Thursday, July 3rd, we are the fantasy footballers Mike Wright, Jason Moore, Andy Holloway. The crew is back together. We are 10 Sundays from football. Wait, wait, wait. Like real football? Yeah, from like the season. The first week, I think it was Scott Hansen that tweeted that out. It's the first weekend of the red zone. I mean, if you're like, hey, 10 weeks till the Hall of Fame game. No, get out of here. Get out of here. I'll be excited, but I don't need to count out for that. That's fair. I mean, we are still very close to meaningful football, and the Hall of Fame game is this month. We're in the month of the Hall of Fame game. It was last week. It was a heck of a game. I haven't gone that long. Is it this month? Yeah. It's in July? July 31st this year. What is happening with the world? Like my daughter. Yeah, they're going back to school in July, and I've got a real problem with this. My daughter starts school in July. What? What are we doing? Why even stop school? Just go every day year round. I like where your head's at. Ruin these kids. Oh, no, I was giving me more free time. Yeah. Well, yeah. You go learn, kids. Dad needs a nap. Yeah. I mean, I think those are the major questions is do you think there's going to be some aggression? Do you pass on players because of it? None of us are. I mean, I would say Henry is pretty like people are not hyper aggressive on Henry and drafts. If anything, he's the guy that kind of gets kicked down a little bit. I mean, Mike, you took CMC three times over him. I mean, it's one of those things where I don't know why we do it. It doesn't make a lot of sense. They paid him again because he's going to score a million touchdowns. It's all about passes. And because everyone else in the world not named Derek Henry to hit that true ceiling, they have to catch, you know, 40 plus receptions. And Derek Henry is just not going to do that. But they were leading or tied on 81% of his carries. That makes sense. And they will be again. It seems like that's what they will begin. They do. We will get a very fun opening matchup because you'll get the Sunday night game in week one against Buffalo. Oh, baby. Which NFL already makes me very excited. And then Cleveland Detroit at home. So they're in Buffalo and then at home for a couple games. Then Kansas City in week four. So it's going to be, I mean, Detroit, Kansas City, Buffalo in three of the first four weeks. Those are some tough matchups. Are you guys good with the Flowers ADP? I know. I don't think any of the three of us are in love. That's fine. Fifth round, wider 024. Somebody that's a guaranteed, like I'd be happy to flex Flowers all year long. I mean. Yeah. If he's your fifth player, that's fine. I'm not in love with Flowers, but he is still a young guy with a great quarterback, talented. If he were to step up on target percentage, you know, 2%, he could be a weekly relevant25% last year. Was he that high? Yeah. I mean, because you had a couple games. He missed some time, didn't he? No, he played every game, but the final week he only played 20% of the snaps, which is that's Week 18, so we don't really count it. The one real clunker would be in Week 7 against Tampa Bay where he only had one target, but he played really the whole game. I counted on him in Championship Week. I guess that's not his only clunker. That didn't work, but he was a little bit banged up. Did he miss a playoff game then? Yes. I think he got hurt in the final week. Kyle, are you there? Do we have Kyle today? Kyle, come in. I'll look it up. Over and out. Oh, my goodness. Kyle, you're supposed to know this stuff. Is he coming in on a ham radio? Okay. Yeah, no, he didn't play in the playoffs. Yeah, any partying thoughts on Baltimore before we move on? Partying thoughts? Partying. I think Super Bowl party is the thoughts for the Ravens. Thank you, Jason. You're welcome. Really appreciate that. We'll take a break and come back with a team that is just there. I don't know what they're doing. All right, I don't know, Jason, if you have partying thoughts on the Pittsburgh Steelers, but they were the number two team in the division last year, 10 and 7. Their projected win total last year was 8.5, but, of course, they surpassed it because they won six of their 10 one-score games, but they ended in a really depressing way for Steelers fans. They lost their final four games. Then they lost in the wild card game. The story of Tomlin, and they haven't won a playoff game since 2016, so you're talking about, what, almost 10 years at this point. Their projected win total this year, it's 8.5 again, and the division's tough. They were playing with Russell Wilson, and those final four games they lost. Do you remember their schedule? It was the Philadelphia Eagles, the Baltimore Ravens, the Kansas City Chiefs, and the Cincinnati Bengals. I mean, it's like that's tough sledding. Obviously, they played in Division II of those, but the other two were the two teams that got to the Super Bowl. So are you excusing that? I am. That's what Miami Dolphins can't win games against good teams situation. But those aren't just—Miami Dolphins is against above 500 teams, teams just with a winning record. The Eagles and the Chiefs were literally the Super Bowl. Okay. They still didn't end the year well, five straight losses. Aaron Rodgers is a better quarterback than Russell Wilson. I would agree. What? This isn't a pro Aaron Rodgers take. This is an anti-Russell Wilson. No, no, no. Hold on. Cut that for sure and post it and make it all like a partying sauce from Jason. But second of all— Commit to the bit, man. So far we've got he completely dismissed their five-game losing streak and endorsed Aaron Rodgers. So just to be clear, that's where we're at on the Steelers so far. They were 20th in points per game last year, 23rd in yards per game. So when you look at the bar on offense, it's set very low, 28th in passing percentage. You've got an Arthur Smith issue because one of the things coming out this week, Aaron Rodgers and Arthur Smith are going to talk about how to balance the offense, the running game versus the passing game. I mean, okay. It's not—I mean, the running game versus the passing game, it literally—it's Arthur Smith versus Aaron Rodgers. Like, they're already in battle. Like, Arthur wants to run the ball way more than everyone else in the league, and Aaron Rodgers doesn't—he's not coming back to hand the ball off. He's coming back to chuck it. There's an aspect here, and look, it's hard not to give Mike Tomlin a tremendous amount of credit. He's had 18 seasons, and 18 seasons of over 500. So if that's your bar, amazing. If it's winning a playoff game, it's been a while. It does feel like some of the moves this offseason—Ramsey, Rodgers, the big changes at wide receiver, DK Metcalf coming in, big contract, picking out the door, now Jonu Smith—it does feel like, okay, it could work. You could be going all in, and you could get a good year. You've got to avoid injury. But it also feels a little bit like the Suns traded for Shaq, you know, and Kevin Durant. And you're spinning the money, and you're going all in, but you're kind of at a breaking point. Like, nobody in Pittsburgh is going to be okay with this offseason coming back and re-rolling what got them five losses to end the year and losing another playoff game. So you had to do major things. Yeah, they're shaking it up, man. It's very un-Steelers-y. It does feel that way. And look, I liked the move for Ramsey, personally. Ramsey's older, but Minka's done to me. Like, Minka's—he wasn't the guy he was previously. He hasn't been an All-Pro for three years. He was beat a ton last year, all over the field. So to me, I like that move. I think Aaron Rodgers is a better quarterback. I like DK Metcalf in fantasy drafts. No more Najee. We didn't even talk about the backfield. That's completely redone. Caleb Johnson, Jay Loren. Their second pick overall, as they didn't have a second rounder, they brought in Caleb Johnson to replace Najee Harris. So you're hoping for a lot more juice, a lot more breakaway plays, breakaway runs for the offense. And you can't stack the box as easily against Aaron Rodgers as you could with Justin Fields and Russell Wilson. I feel like looking at this team and their ADPs, I know you guys like DK, but— Loved. Oh, you love DK. Oh, I apologize. Yeah, you misspoke. I forgive you. Well, I'm about as the opposite of that as possible. The only guy I really want to draft from this team is Caleb Johnson, and I don't know what—his ADP, we're quoting it right now, I assume this is from Sleeper, of a late eighth. That won't happen. Right. When we get to August— Rookies will fly out. And the casuals come back, and the fever is in there, Caleb's going to go up. So where does he land? That's my biggest question for the Steelers. On my team. Yeah. That's where he's going to land. Yes, we know. So loves Aaron Rodgers. We got any monologue shows coming up? Loves Caleb Johnson. Well, I need a full refresh on Jason. Loves the Steelers. But he's really the only guy that I have true interest in. The other guys, if they're on my team, I got backed into it. Yeah, I mean, I— This is a fantasy show, so— Yeah, I like DK Metcalf. In the fifth round, it was wide receiver 24, who is the clear number one target here for Aaron Rodgers. I feel like he just downgraded from love to like. Did he make that? It is. You love DK Metcalf. I like DK Metcalf, and Mike dislikes DK Metcalf. He has disappointed his ADP for like four straight years. Yeah. Yeah, yeah. And a move to Pittsburgh with Arthur Smith and Aaron Rodgers does not give me super confidence in— I'm fascinated to watch how it happens, because DK Metcalf, he could still be a dominant player out there, but this is not the— Aaron Rodgers is a general who demands that you be exactly where you are supposed to be exactly when you are supposed to be there. And Rodgers likes a tactician, and that's not who DK is. DK is just a bully. You can have what you like, but you only get DK, because they don't have anybody else to catch the football. Oh, they got Jonu now. I mean, they don't make a trade for Jonu unless they plan to give him at least a good 600 yards or so. For sure. Yeah. I mean, yeah, we call that a— Yeah, I mean— That was not an endorsement, Jonu, by the way. No, I realize it. Yeah, and Friar Muth is there, and they'll run two tight ends, and we talked about it on Tuesday. But no, I like Metcalf. I'm still unsure of what the work distribution is going to be with Warren and Caleb Johnson. Yeah. That's still an issue. I think you will start the season with Warren as the starter. Give him that— He's a better pass protector for sure. You know, they're going to— Aaron Rodgers is going to love Jalen Warren. But I do think as the season goes along, Caleb Johnson and his ability to have explosive plays out of the backfield will just be too important for the offense to keep on the side. I'm looking at their schedule. They'll probably start 3-0. Who do they got? Well, they're going to play the Jets. Okay. Aaron Rodgers. Oh, revenge. Revenge. So they're going to play the Jets on the road, but that's a very winnable game. Then they're going to play at home against Seattle and Sam Darnold and whatever they've got figuring out in Seattle. And then they're going to go to New England in Week 3. Yeah. Oh, man. A loss to the Jets in Week 1 would just be— Oh, my gosh. It would be ...for 93 targets and he caught 86% of them for 8 yards of reception. I mean, he was just so valuable to Joe Burrow in that check down game and I don't see that going away. Like from week 4 through 17, because he didn't play week 18. From weeks 4 through 17, he has one game under 10 points. And you have multiple smash games in there. I love Chase Brown this year. Just circling back to test my theory here and get your opinions. All right. T. Higgins' current ADP relative to some of these other players. You like Garrett Wilson more or you like T. Higgins more? Higgins. Oh, man. Garrett Wilson was slightly better in consistency last year percentage-wise, but is a couple picks later. You like Higgins, Mike? I think we'd all like him over McLaurin. Yeah. Who's going later? Marvin Harrison Jr. is going later. I'll still take Higgins. Evans, Devante Adams, a couple of the older guys, DJ Morashi Rice. Yeah. It doesn't seem... It's high risk, but very high reward. Yeah, I don't see a bunch of wide receiver names behind Higgins that I like more than Higgins. So maybe that is... Going in the right spot, but he is... Maybe it's just the right temperature to handle. He is hot and you might burn your hand, or if you're cold, this might feel real nice. It's funny because this is... It's a hand warmer? It's like a mug. He's just like Goldilocks in this thing. Look, this is the highest he's ever gone in his career. His ADP? Yes, that's worth saying. That is... I mean, he has never gone higher. So when you talk about laying the palm fronds over the hole... The end of the year was very good for Tee Higgins. And the contract. I mean, and when you look at one of the questions about Cincinnati, too, is what happens if one of these guys gets hurt, which has happened. In fact, it's happened to one of them a lot over the last few years. It's like, is there a third line... More one than the other, but you know. Yeah, I mean, is there a wide receiver in that Tyler Boyd third position that you like a lot? And to me, it's more... Look, they gave Mike Gesicki money. So Gesicki is not somebody I target until one of these guys gets hurt. And then I'm looking at him on free agency and saying, I think I might be able to start him with a team that passes at the level that they pass with the defense that they have. To me, Gesicki is the perfect pivot if one of those guys gets hurt. Yeah, I'm for that. Any other thoughts about the team in terms of range of outcomes for Burrow or anything else you want to mention? The NFL did its best to try and help the Bengals get off to a strong start with the Cleveland Browns and the Jacksonville Jaguars. Just trying to say, like, come on. Of course, they did it last year with the Patriots. I was going to say, going into Cleveland? That's setting them up. I mean, they went into New England a lot, setting them up to go into Cleveland. But yeah, we have Cleveland, Jacksonville, Minnesota, and Denver. Three out of four on the road. So you talk about slow start potential. That's a little worrisome, actually. Two and two, maybe? It sounds like they got to throw a bunch. It does sound like they got to throw a bunch. We'll take a break and we'll talk about Mike's favorite team on the planet. I'm just getting this piece of news after the break here. Kyle letting me know Burrow has won 39% of all games in September. That sounds about right. Feels like a high number compared to our experience. Man. Cleveland was 3-14 last year. And their projected win total going into this season was 8.5. Sean Watson. That didn't work. Got hurt. Tore his Achilles. I heard he's on track for October or something. I don't know why that was in the news, but it was. If I could block Sean Watson news from my feed. I think... Filter it out? If the Cleveland Browns could block Sean Watson news, I think they would. I bet you Stefanski on Twitter... Oh, he's got that filter in there. Oh, he's got him muted. Yeah, he doesn't let Deshaun know, but he's got him muted. 2025 Vegas win totaled it down to 5.5. Yeah, that sounds like they don't think Joe Flacco is starting. We also talk about the outside edges of the strength of schedule. They have the 31st ranked strength of schedule coming up. Wait, does that mean it's bad or good? You don't know for sure. I can see. I assume 31st ranked... It's bad. 31st ranked, I thought that... Okay, it's bad. Yes. Okay. Like bad, like Michael Jackson bad? So bad it's good? It is so difficult. They have a difficult schedule ahead. Man, that's bad. So stupid. You did freeze. You froze for a second. You made me question it for a second. Look, I didn't know the answer. I couldn't remember how we put it in. Their favorite in one game so far. Against two. Yeah, don't put them on blast. That I need to know. Yeah, Kyle, let us know who their favorite against and what fan base should be embarrassed. Is it their bye week? They are favorite in their bye. They're favorite in week 14? Yes. Oh yeah, one and a half point favorites. That's got to be New England or something. At home. Who is it? Tennessee at home. Okay, yeah. All right. Well, look, here's where we're at. 32nd in points per game last year. So we could go up from there. 28th in yards per game and yet number one in pass percentage. So they pass a ton. Jameis, thank you. Jameis. It's wild that you get the number one in pass percentage and number 32 in points per game. Like that is the Jameis experience in some ways. But Stefanski will give it a go again. They got a new offensive coordinator. Jameis is no longer a part of this team. Neither is stalwart Nick Chubb who had been there forever. No more Elijah Moore. But Joe Flacco's there and Kenny Pickett and Deontay Johnson. Ew! Oh man. Did you guys read those Deontay Johnson comments? Yes, about him not wanting to go play when it was cold out. Yeah, of like him explaining why he got suspended. Almost like... Did you see Anthony Richardson replied and was like, I hear you. Bro, I get it. Are you tired or cold? You should probably take a break. But it was just, it was so hilarious. This is Deontay Johnson talking about like, no, no, no. Here's what happened. I didn't want to play because it was cold. I mean, are you guys with me? Are you with me? His, what he was trying to explain was that he felt that his body was cold and he was going to be bad if they put him out there. Right. Because he was looking out for number one. Yeah. He's like, I'm going to put bad tape out there if I go out there. That's probably true. Sometimes you just be like, I don't really want to talk about that. Cleveland has a great defense. They should be able to be in games if they could do anything on offense. We don't know who their quarterback is. And it changes everything. I was going to say that sentence will be uttered weekly. Yeah, but it changes everything for this team. Like because of who their different quarterback options are, it's so wildly different. If Joe Flacco is there, he's going to air it out a ton. If Joe Flacco is the starter week one, Jerry, Judy, David Njoku, these are good options. If it's Kenny Pickett week one, they're bad options. Let's reframe this. Let's try an experiment here, Jason, because every time we talk about Cleveland, it's like the quarterback matters so much. But that might be the trick. That might be the lie. That might be the problem. It's not going to be the same guy all year. So then if we think it matters a lot, and it's the guy we like to start the year, and that means we draft the players that we like because of that quarterback, it will not necessarily be that quarterback for very long. Right. So in that case... Trade them. Yeah, but if you know that Kenny Pickett is taking over Shadur Sanders or Dylan Gabriel, you don't get to trade them. I'm saying if you get the first three weeks of Joe Flacco and Jerry Judy's riding high, you put him on the market. Maybe you could do that with Judy, I agree. But maybe my point being, maybe we want to just avoid and not do the dance. Maybe sometimes you just do that. I am fine avoiding the players on this team, minus Quinchon Judkins. I think he's going to be excellent. He's the Nick Chubb replacement, a very big, athletic, real super athletic back. Who are you talking about? Judkins. I love... I love Jason. Do you like... Let's say they both end up, I don't know, I'll put them both in the fourth or the fifth, whatever. Like Caleb Johnson or Judkins, which direction would you prefer to go? You know, it is funny because you hypothetically said, I'll put them in the fourth or the fifth. That makes the difference for me. I'm saying\""
      ]
     },
     "execution_count": 15,
     "metadata": {},
     "output_type": "execute_result"
    }
   ],
   "source": [
    "complete_output"
   ]
  },
  {
   "cell_type": "code",
   "execution_count": 17,
   "id": "959018c0",
   "metadata": {},
   "outputs": [],
   "source": [
    "import re\n",
    "\n",
    "def chunk_text(text, num_chunks=4):\n",
    "    # Split text into sentences using punctuation\n",
    "    sentences = re.split(r'(?<=[.!?]) +', text)\n",
    "    total_sentences = len(sentences)\n",
    "    chunk_size = total_sentences // num_chunks\n",
    "    \n",
    "    chunks = []\n",
    "    for i in range(num_chunks):\n",
    "        start = i * chunk_size\n",
    "        # Ensure the last chunk gets any leftover sentences\n",
    "        end = (i + 1) * chunk_size if i < num_chunks - 1 else total_sentences\n",
    "        chunk = ' '.join(sentences[start:end]).strip()\n",
    "        chunks.append(chunk)\n",
    "    \n",
    "    return chunks\n"
   ]
  },
  {
   "cell_type": "code",
   "execution_count": 18,
   "id": "0b4c8294",
   "metadata": {},
   "outputs": [],
   "source": [
    "chunks = chunk_text(complete_output)"
   ]
  },
  {
   "cell_type": "code",
   "execution_count": 21,
   "id": "d1dfa225",
   "metadata": {},
   "outputs": [
    {
     "data": {
      "text/plain": [
       "4"
      ]
     },
     "execution_count": 21,
     "metadata": {},
     "output_type": "execute_result"
    }
   ],
   "source": [
    "len(chunks)"
   ]
  },
  {
   "cell_type": "code",
   "execution_count": 20,
   "id": "dce42691",
   "metadata": {},
   "outputs": [],
   "source": [
    "system_prompt = \"You are a helpful assistant that summarizes transcripts.\"\n",
    "system_prompt += \"You will get a chunk of a conversation between three fantasy football analysts.\"\n",
    "system_prompt += \"You're job is to summarize each chunk giving the most important key points highlighting any mentioned football players.\""
   ]
  },
  {
   "cell_type": "code",
   "execution_count": 36,
   "id": "5ac3b5b7",
   "metadata": {},
   "outputs": [],
   "source": [
    "messages=[\n",
    "    {\"role\": \"system\", \"content\": system_prompt},\n",
    "    {\"role\": \"user\", \"content\": f\"Summarize the following transcript: {chunks[3]}\"}\n",
    "]\n"
   ]
  },
  {
   "cell_type": "code",
   "execution_count": 37,
   "id": "f63ec922",
   "metadata": {},
   "outputs": [],
   "source": [
    "response = openai.chat.completions.create(model=MODEL, messages=messages)"
   ]
  },
  {
   "cell_type": "code",
   "execution_count": 38,
   "id": "99f491c9",
   "metadata": {},
   "outputs": [
    {
     "data": {
      "text/plain": [
       "'The analysts discuss the struggles of a particular football team, indicating that they are ranked 31st, which they agree is \"bad.\" They note the team\\'s difficult upcoming schedule and mention their ranking of 32nd in points per game from the previous year, despite having the highest pass percentage in the league. \\n\\nKey topics include:\\n- The team has lost significant players like Nick Chubb and Jameis Winston, creating uncertainty in their offense.\\n- Joe Flacco and Kenny Pickett are mentioned as potential quarterbacks, with analysts debating their impact on offensive players like Jerry Judy and David Njoku.\\n- Deontay Johnson\\'s comments about not wanting to play in the cold due to concerns about his performance are discussed humorously.\\n- They highlight Quinchon Judkins as a promising player, considering him a strong replacement for Nick Chubb.\\n\\nOverall, the conversation revolves around the impact of quarterback changes on player performance and the need for careful consideration in drafting players from this team.'"
      ]
     },
     "execution_count": 38,
     "metadata": {},
     "output_type": "execute_result"
    }
   ],
   "source": [
    "response.choices[0].message.content"
   ]
  },
  {
   "cell_type": "code",
   "execution_count": 39,
   "id": "21f9157f",
   "metadata": {},
   "outputs": [],
   "source": [
    "full_response += response.choices[0].message.content"
   ]
  },
  {
   "cell_type": "code",
   "execution_count": 41,
   "id": "67c77391",
   "metadata": {},
   "outputs": [
    {
     "data": {
      "text/markdown": [
       "On July 3rd, fantasy football analysts Mike Wright, Jason Moore, and Andy Holloway discussed the upcoming NFL season, noting that they were just 10 Sundays away from real football. They highlighted the Hall of Fame game on July 31st, which is the first game of the season. \n",
       "\n",
       "The conversation turned to player evaluations, particularly focusing on Derek Henry, who seems to be undervalued in drafts despite having strong scoring potential. They mentioned that Henry may be less favored in drafts compared to other players like Christian McCaffrey due to concerns about reception counts and his role in the passing game.\n",
       "\n",
       "The analysts previewed the tough matchups for teams early in the season, such as the opening game for a team against Buffalo and other challenging opponents like Detroit and Kansas City in the following weeks.\n",
       "\n",
       "They also discussed the prospects of wide receiver Zay Flowers, who they deemed a fine choice for a fifth-round pick, though not overwhelmingly exciting. They noted his potential to be a flexible option if he could improve on his target percentage. \n",
       "\n",
       "Lastly, they touched on the Pittsburgh Steelers, mentioning their recent struggles despite a strong previous season where they exceeded expectations. The team hasn't won a playoff game since 2016 and ended the last season with a disappointing final stretch.In this conversation among fantasy football analysts, the key points revolve around team performance, player evaluations, and strategies for the upcoming season. Here are the main highlights:\n",
       "\n",
       "1. **Projected Win Total**: The focus is on a team with a projected win total of 8.5, where the analysts discuss the difficulty of their schedule, especially in their final four games, which included tough opponents like the Philadelphia Eagles, Baltimore Ravens, Kansas City Chiefs, and Cincinnati Bengals.\n",
       "\n",
       "2. **Quarterback Comparisons**: There is a debate on the relative merits of Aaron Rodgers and Russell Wilson, with a consensus that Rodgers is a better quarterback, suggesting a lack of faith in Wilson's recent performances.\n",
       "\n",
       "3. **Offensive Struggles**: The team ranked poorly in key offensive metrics last year, including 20th in points per game and 28th in passing percentage. This sets a low bar for improvement in the upcoming season.\n",
       "\n",
       "4. **Coaching Strategies**: The discussion touches on the tactical differences between Aaron Rodgers and head coach Arthur Smith, particularly regarding the balance between the running game and passing game. Analysts convey skepticism about how this dynamic will play out.\n",
       "\n",
       "5. **Pittsburgh Steelers Reputation**: They discuss Mike Tomlin's consistent performance over his 18-season tenure and some significant offseason moves, including the addition of players like Jalen Ramsey and DK Metcalf, suggesting a potential shift in team strategy.\n",
       "\n",
       "6. **Rookie Prospects**: Caleb Johnson is highlighted as a rookie running back expected to bring more explosiveness to the backfield, especially in replacing Najee Harris. Analysts predict his ADP (average draft position) will rise as the season approaches.\n",
       "\n",
       "7. **Fantasy Relevance**: The conversation shifts to fantasy implications, with conflicting views on DK Metcalf's potential under Rodgers' leadership, and uncertainty surrounding other offensive players like Jonu Smith and Pat Freiermuth.\n",
       "\n",
       "8. **Backfield Dynamics**: There is debate on the roles of running backs Warren and Caleb Johnson, with analysts suggesting that Warren may start the season as the primary back.\n",
       "\n",
       "Overall, the analysts provide a mix of optimism and skepticism about the team's potential for the upcoming season, with specific attention to new player dynamics and their impacts on both team performance and fantasy relevance.In this discussion among fantasy football analysts, several key players and topics emerge:\n",
       "\n",
       "1. **Jalen Warren and Caleb Johnson**: Warren is highlighted as a strong pass protector whom quarterback Aaron Rodgers will appreciate. However, Caleb Johnson's explosive play ability is deemed essential for the offense as the season progresses.\n",
       "\n",
       "2. **Team Schedules**: There's speculation that the team will start the season 3-0, with winnable matchups against the Jets, Seahawks, and Patriots. The analysts discuss the implications of a potential loss to the Jets in Week 1.\n",
       "\n",
       "3. **Tee Higgins vs. Garrett Wilson**: The conversation shifts to Tee Higgins’ average draft position (ADP), with analysts favoring Higgins over Wilson and other receivers. Higgins is noted for his consistency and strong finish from the previous season.\n",
       "\n",
       "4. **Teams and Quarterbacks**: The Bengals' schedule is analyzed, with an emphasis on challenges in the early season, including matchups against the Browns and Jaguars. There’s concern over the potential slow start for quarterback Joe Burrow.\n",
       "\n",
       "5. **Cincinnati Bengals' Receiving Core**: The analysts debate the depth behind the starting receivers, with Tyler Boyd mentioned as the third option. Mike Gesicki is recommended as a potential free agency target if injuries occur in the Bengals' receiving group.\n",
       "\n",
       "6. **Cleveland Browns Context**: The analysts touch on the struggles of the Browns, mentioning Deshaun Watson's injury and performance issues, while discussing their weak projected win total and tough strength of schedule.\n",
       "\n",
       "In summary, the analysts express cautious optimism about Jalen Warren and Caleb Johnson, highlight Tee Higgins' draft value, discuss the Bengals' and Browns' upcoming challenges, and consider the fantasy implications of these discussions.The analysts discuss the struggles of a particular football team, indicating that they are ranked 31st, which they agree is \"bad.\" They note the team's difficult upcoming schedule and mention their ranking of 32nd in points per game from the previous year, despite having the highest pass percentage in the league. \n",
       "\n",
       "Key topics include:\n",
       "- The team has lost significant players like Nick Chubb and Jameis Winston, creating uncertainty in their offense.\n",
       "- Joe Flacco and Kenny Pickett are mentioned as potential quarterbacks, with analysts debating their impact on offensive players like Jerry Judy and David Njoku.\n",
       "- Deontay Johnson's comments about not wanting to play in the cold due to concerns about his performance are discussed humorously.\n",
       "- They highlight Quinchon Judkins as a promising player, considering him a strong replacement for Nick Chubb.\n",
       "\n",
       "Overall, the conversation revolves around the impact of quarterback changes on player performance and the need for careful consideration in drafting players from this team."
      ],
      "text/plain": [
       "<IPython.core.display.Markdown object>"
      ]
     },
     "metadata": {},
     "output_type": "display_data"
    }
   ],
   "source": [
    "from IPython.display import Markdown, display\n",
    "\n",
    "display(Markdown((full_response)))"
   ]
  },
  {
   "cell_type": "code",
   "execution_count": null,
   "id": "b3cabc49",
   "metadata": {},
   "outputs": [],
   "source": []
  }
 ],
 "metadata": {
  "kernelspec": {
   "display_name": ".venv",
   "language": "python",
   "name": "python3"
  },
  "language_info": {
   "codemirror_mode": {
    "name": "ipython",
    "version": 3
   },
   "file_extension": ".py",
   "mimetype": "text/x-python",
   "name": "python",
   "nbconvert_exporter": "python",
   "pygments_lexer": "ipython3",
   "version": "3.11.9"
  }
 },
 "nbformat": 4,
 "nbformat_minor": 5
}
