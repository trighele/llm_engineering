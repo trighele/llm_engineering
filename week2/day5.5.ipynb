{
 "cells": [
  {
   "cell_type": "markdown",
   "id": "e81957b0-e166-4b26-8c12-084e860ecb0f",
   "metadata": {},
   "source": [
    "### Goals\n",
    "\n",
    "1. Add more Tools / Agents to enhance capabilities\n",
    "   - Add Another Tool for booking\n",
    "2. Add an Agent that translates all responses to a different language and shows on the right side, try with different Frontier Model\n",
    "3. Add and Agent that can listen for Audio and convert it to Text"
   ]
  },
  {
   "cell_type": "markdown",
   "id": "e13dc9a3-6592-47e0-be5b-2f24a6932958",
   "metadata": {},
   "source": [
    "# Add More Tools"
   ]
  },
  {
   "cell_type": "code",
   "execution_count": 1,
   "id": "90b28b79-1053-4b7b-98f1-3a8b7d693a9f",
   "metadata": {},
   "outputs": [],
   "source": [
    "import os\n",
    "import json\n",
    "from dotenv import load_dotenv\n",
    "from openai import OpenAI\n",
    "import gradio as gr"
   ]
  },
  {
   "cell_type": "code",
   "execution_count": 4,
   "id": "959a18cf-9aa1-4e8e-865f-1acef5768ebf",
   "metadata": {},
   "outputs": [],
   "source": [
    "load_dotenv(override=True)\n",
    "\n",
    "openai_api_key = os.getenv('OPENAI_API_KEY')"
   ]
  },
  {
   "cell_type": "code",
   "execution_count": 5,
   "id": "794b5fe8-7def-40f8-bb23-c125d6ce1ae6",
   "metadata": {},
   "outputs": [],
   "source": [
    "MODEL = \"gpt-4o-mini\"\n",
    "openai = OpenAI()"
   ]
  },
  {
   "cell_type": "code",
   "execution_count": 6,
   "id": "f367b5d6-a884-4115-8b22-b1fb1f9c4c6f",
   "metadata": {},
   "outputs": [],
   "source": [
    "system_message = \"You are a helpful assistant for an Airline called FlightAI. \"\n",
    "system_message += \"Give short, courteous answers, no more than 1 sentence. \"\n",
    "system_message += \"Always be accurate. If you don't know the answer, say so.\""
   ]
  },
  {
   "cell_type": "code",
   "execution_count": 7,
   "id": "066ee5c8-25ca-4352-ae98-f43bf41c6884",
   "metadata": {},
   "outputs": [],
   "source": [
    "### Price Tool\n",
    "\n",
    "ticket_prices = {\"london\": \"$799\", \"paris\": \"$899\", \"tokyo\": \"$1400\", \"berlin\": \"$499\"}\n",
    "\n",
    "def get_ticket_price(destination_city):\n",
    "    print(f\"Tool get_ticket_price called for {destination_city}\")\n",
    "    city = destination_city.lower()\n",
    "    return ticket_prices.get(city, \"Unknown\")\n",
    "\n",
    "price_function = {\n",
    "    \"name\": \"get_ticket_price\",\n",
    "    \"description\": \"Get the price of a return ticket to the destination city. Call this whenever you need to know the ticket price, for example when a customer asks 'How much is a ticket to this city'\",\n",
    "    \"parameters\": {\n",
    "        \"type\": \"object\",\n",
    "        \"properties\": {\n",
    "            \"destination_city\": {\n",
    "                \"type\": \"string\",\n",
    "                \"description\": \"The city that the customer wants to travel to\",\n",
    "            },\n",
    "        },\n",
    "        \"required\": [\"destination_city\"],\n",
    "        \"additionalProperties\": False\n",
    "    }\n",
    "}"
   ]
  },
  {
   "cell_type": "code",
   "execution_count": 8,
   "id": "c3f436c8-031d-46e1-a0d5-131aa75decfe",
   "metadata": {},
   "outputs": [],
   "source": [
    "### Handle Price Tool\n",
    "\n",
    "def handle_price_tool_call(message):\n",
    "    tool_call = message.tool_calls[0]\n",
    "    arguments = json.loads(tool_call.function.arguments)\n",
    "    city = arguments.get('destination_city')\n",
    "    price = get_ticket_price(city)\n",
    "    response = {\n",
    "        \"role\": \"tool\",\n",
    "        \"content\": json.dumps({\"destination_city\": city,\"price\": price}),\n",
    "        \"tool_call_id\": tool_call.id\n",
    "    }\n",
    "    return response, city"
   ]
  },
  {
   "cell_type": "code",
   "execution_count": 9,
   "id": "15d78414-a738-4a76-a94f-f602c982c0b0",
   "metadata": {},
   "outputs": [],
   "source": [
    "### Booking Tool\n",
    "\n",
    "def book_flight():\n",
    "    print(\"Ticket has been booked\")\n",
    "    return {'status': 200}\n",
    "\n",
    "book_function = {\n",
    "    \"name\": \"book_flight\",\n",
    "    \"description\": \"Book a flight for a destination. Call this whenever the user requests to book the flight, for example when a customer asks 'Can you help me book tihs flight?'\",\n",
    "    \"parameters\": {}\n",
    "}"
   ]
  },
  {
   "cell_type": "code",
   "execution_count": 10,
   "id": "9dc52ab2-9952-475f-a7ff-2ae617f57844",
   "metadata": {},
   "outputs": [],
   "source": [
    "def handle_book_flight_call(message):\n",
    "    tool_call = message.tool_calls[0]\n",
    "    status = book_flight()\n",
    "    response = {\n",
    "        \"role\": \"tool\",\n",
    "        \"content\": json.dumps({\"status\": \"Ticket has been booked\"}),\n",
    "        \"tool_call_id\": tool_call.id\n",
    "    }\n",
    "    return response, status"
   ]
  },
  {
   "cell_type": "code",
   "execution_count": 11,
   "id": "8d942376-b720-45cd-a3f1-7fd242bbbe14",
   "metadata": {},
   "outputs": [],
   "source": [
    "tools = [{\"type\": \"function\", \"function\": price_function}, {\"type\": \"function\", \"function\": book_function}]"
   ]
  },
  {
   "cell_type": "code",
   "execution_count": 12,
   "id": "a23dfd22-66e6-4f1b-bfc5-0aecab696264",
   "metadata": {},
   "outputs": [],
   "source": [
    "def chat(message, history):\n",
    "    messages = [{\"role\": \"system\", \"content\": system_message}] + history + [{\"role\": \"user\", \"content\": message}]\n",
    "    response = openai.chat.completions.create(model=MODEL, messages=messages, tools=tools)\n",
    "    \n",
    "    if response.choices[0].finish_reason==\"tool_calls\":\n",
    "        if response.choices[0].message.tool_calls[0].function.name==\"get_ticket_price\":\n",
    "            message = response.choices[0].message\n",
    "            response, city = handle_price_tool_call(message)\n",
    "            messages.append(message)\n",
    "            messages.append(response)\n",
    "            response = openai.chat.completions.create(model=MODEL, messages=messages)\n",
    "        elif response.choices[0].message.tool_calls[0].function.name==\"book_flight\":\n",
    "            message = response.choices[0].message\n",
    "            response, status = handle_book_flight_call(message)\n",
    "            messages.append(message)\n",
    "            messages.append(response)\n",
    "            response = openai.chat.completions.create(model=MODEL, messages=messages)\n",
    "    \n",
    "    return response.choices[0].message.content"
   ]
  },
  {
   "cell_type": "code",
   "execution_count": 13,
   "id": "69061291",
   "metadata": {},
   "outputs": [
    {
     "name": "stdout",
     "output_type": "stream",
     "text": [
      "Ticket has been booked\n"
     ]
    },
    {
     "data": {
      "text/plain": [
       "'Your flight to Paris has been successfully booked!'"
      ]
     },
     "execution_count": 13,
     "metadata": {},
     "output_type": "execute_result"
    }
   ],
   "source": [
    "chat(\"Great, can you help me book the flight?\", \n",
    "    [\n",
    "        {\"role\": \"user\", \"content\": \"Hi, how's it going?\"}, \n",
    "        {\"role\": \"assistant\", \"content\": \"Hello! I'm here to help you with your travel needs. How can I assist you today?\"},\n",
    "        {\"role\": \"user\", \"content\": \"How about Paris?\"}, \n",
    "        {\"role\": \"assistant\", \"content\": \"Could you please specify what information you would like about Paris?\"},\n",
    "        {\"role\": \"user\", \"content\": \"What are things to see there?\"}, \n",
    "        {\"role\": \"assistant\", \"content\": \"In Paris, you can explore the Eiffel Tower, the Louvre Museum, Notre-Dame Cathedral, Montmartre, and enjoy a stroll along the Seine River.\"},\n",
    "        {\"role\": \"user\", \"content\": \"Can you tell me the ticket price for a flight to Paris?\"}, \n",
    "        {\"role\": \"assistant\", \"content\": \"The ticket price for a flight to Paris is approximately $899.\"}        \n",
    "    ]\n",
    ")"
   ]
  },
  {
   "cell_type": "code",
   "execution_count": null,
   "id": "161e745d-f380-4c17-bd86-9c26b43b6b34",
   "metadata": {},
   "outputs": [
    {
     "name": "stdout",
     "output_type": "stream",
     "text": [
      "* Running on local URL:  http://127.0.0.1:7860\n",
      "* To create a public link, set `share=True` in `launch()`.\n"
     ]
    },
    {
     "data": {
      "text/html": [
       "<div><iframe src=\"http://127.0.0.1:7860/\" width=\"100%\" height=\"500\" allow=\"autoplay; camera; microphone; clipboard-read; clipboard-write;\" frameborder=\"0\" allowfullscreen></iframe></div>"
      ],
      "text/plain": [
       "<IPython.core.display.HTML object>"
      ]
     },
     "metadata": {},
     "output_type": "display_data"
    },
    {
     "data": {
      "text/plain": []
     },
     "execution_count": 11,
     "metadata": {},
     "output_type": "execute_result"
    },
    {
     "name": "stdout",
     "output_type": "stream",
     "text": [
      "Tool get_ticket_price called for Paris\n",
      "Ticket has been booked\n"
     ]
    }
   ],
   "source": [
    "gr.ChatInterface(fn=chat, type=\"messages\").launch()"
   ]
  },
  {
   "cell_type": "markdown",
   "id": "83f60900-e6b4-4e4d-8008-334207e10550",
   "metadata": {},
   "source": [
    "# Add Tool Functionality with Cluade"
   ]
  },
  {
   "cell_type": "code",
   "execution_count": 12,
   "id": "b23eed4f-9212-414c-8f70-89a72eca9973",
   "metadata": {},
   "outputs": [],
   "source": [
    "import os\n",
    "import json\n",
    "from dotenv import load_dotenv\n",
    "import anthropic\n",
    "import gradio as gr"
   ]
  },
  {
   "cell_type": "code",
   "execution_count": 14,
   "id": "830cb0c5-688b-4394-8010-2736b5d0b874",
   "metadata": {},
   "outputs": [],
   "source": [
    "load_dotenv(override=True)\n",
    "\n",
    "anthropic_api_key = os.getenv('ANTHROPIC_API_KEY')\n",
    "MODEL = \"claude-3-7-sonnet-latest\"\n",
    "client = anthropic.Anthropic(api_key=anthropic_api_key)"
   ]
  },
  {
   "cell_type": "code",
   "execution_count": 60,
   "id": "aabaa172-a576-4c2c-8eaf-2957603e7cee",
   "metadata": {},
   "outputs": [],
   "source": [
    "system_message = \"You are a helpful assistant for an Airline called FlightAI. \"\n",
    "system_message += \"Give short, courteous answers, no more than 1 sentence. \"\n",
    "system_message += \"Always be accurate. If you don't know the answer, say so.\"\n",
    "system_message += \"The user will send all messages in English. Respond only in Spanish.\""
   ]
  },
  {
   "cell_type": "code",
   "execution_count": 33,
   "id": "aa4e2583-5505-40ab-9aac-36b5e539b984",
   "metadata": {
    "scrolled": true
   },
   "outputs": [
    {
     "name": "stdout",
     "output_type": "stream",
     "text": [
      "* Running on local URL:  http://127.0.0.1:7873\n",
      "* To create a public link, set `share=True` in `launch()`.\n"
     ]
    },
    {
     "data": {
      "text/html": [
       "<div><iframe src=\"http://127.0.0.1:7873/\" width=\"100%\" height=\"500\" allow=\"autoplay; camera; microphone; clipboard-read; clipboard-write;\" frameborder=\"0\" allowfullscreen></iframe></div>"
      ],
      "text/plain": [
       "<IPython.core.display.HTML object>"
      ]
     },
     "metadata": {},
     "output_type": "display_data"
    },
    {
     "data": {
      "text/plain": []
     },
     "execution_count": 33,
     "metadata": {},
     "output_type": "execute_result"
    }
   ],
   "source": [
    "## Antropic version of chat function\n",
    "history_store = []\n",
    "\n",
    "def chat(message, history):\n",
    "    global history_store\n",
    "\n",
    "    # Convert Gradio's history format to Anthropic format\n",
    "    messages = []\n",
    "    for turn in history_store:\n",
    "        messages.append({\"role\": \"user\", \"content\": turn[\"user\"]})\n",
    "        messages.append({\"role\": \"assistant\", \"content\": turn[\"assistant\"]})\n",
    "\n",
    "    messages.append({\"role\": \"user\", \"content\": message})\n",
    "    \n",
    "    response = client.messages.create(system=system_message, model=MODEL, max_tokens=1024, messages=messages)\n",
    "\n",
    "    assistant_response = \"\"\n",
    "    \n",
    "    for block in response.content:\n",
    "        if block.type == \"text\":\n",
    "            assistant_response += block.text    \n",
    "\n",
    "    history_store.append({\"user\": message, \"assistant\": assistant_response})\n",
    "    \n",
    "    return assistant_response\n",
    "\n",
    "gr.ChatInterface(fn=chat, type=\"messages\").launch()"
   ]
  },
  {
   "cell_type": "code",
   "execution_count": null,
   "id": "60a5484e-dfed-4f8f-8a76-670018ac56d8",
   "metadata": {},
   "outputs": [
    {
     "name": "stdout",
     "output_type": "stream",
     "text": [
      "* Running on local URL:  http://127.0.0.1:7897\n",
      "* To create a public link, set `share=True` in `launch()`.\n"
     ]
    },
    {
     "data": {
      "text/html": [
       "<div><iframe src=\"http://127.0.0.1:7897/\" width=\"100%\" height=\"500\" allow=\"autoplay; camera; microphone; clipboard-read; clipboard-write;\" frameborder=\"0\" allowfullscreen></iframe></div>"
      ],
      "text/plain": [
       "<IPython.core.display.HTML object>"
      ]
     },
     "metadata": {},
     "output_type": "display_data"
    },
    {
     "data": {
      "text/plain": []
     },
     "execution_count": 62,
     "metadata": {},
     "output_type": "execute_result"
    },
    {
     "name": "stdout",
     "output_type": "stream",
     "text": [
      "Tool get_ticket_price called for Paris\n",
      "Ticket has been booked\n"
     ]
    }
   ],
   "source": [
    "## With Tools\n",
    "tools = [\n",
    "    {\n",
    "        \"name\": \"get_ticket_price\",\n",
    "        \"description\": \"Get the price of a return ticket to the destination city. Call this whenever you need to know the ticket price, for example when a customer asks 'How much is a ticket to this city'\",\n",
    "        \"input_schema\": {\n",
    "            \"type\": \"object\",\n",
    "            \"properties\": {\n",
    "                \"destination_city\": {\n",
    "                    \"type\": \"string\",\n",
    "                    \"description\": \"The city that the customer wants to travel to\"\n",
    "                }\n",
    "            },\n",
    "            \"required\": [\"destination_city\"]\n",
    "        }\n",
    "    },\n",
    "    {\n",
    "        \"name\": \"book_flight\",\n",
    "        \"description\": \"Book a flight for a destination. Call this whenever the user requests to book the flight, for example when a customer asks 'Can you help me book this flight?'\",\n",
    "        \"input_schema\": {\n",
    "            \"type\": \"object\",\n",
    "            \"properties\": {\n",
    "                \"destination_city\": {\n",
    "                    \"type\": \"string\",\n",
    "                    \"description\": \"The city that the customer wants to travel to\"\n",
    "                }\n",
    "            },\n",
    "            \"required\": [\"destination_city\"]\n",
    "        }\n",
    "    }    \n",
    "]\n",
    "\n",
    "def execute_tool(name, input_data):\n",
    "    if name == \"get_ticket_price\":\n",
    "        ticket_prices = {\"london\": \"$799\", \"paris\": \"$899\", \"tokyo\": \"$1400\", \"berlin\": \"$499\"}\n",
    "        city = input_data.get(\"destination_city\", \"Unknown City\")\n",
    "        print(f\"Tool get_ticket_price called for {city}\")\n",
    "        city = city.lower()\n",
    "        price = ticket_prices.get(city, \"Unknown\")\n",
    "        # return {\"destination_city\": city,\"price\": price}\n",
    "        return f\"The ticket for a flight to {city} is {price}\"\n",
    "    elif name == \"book_flight\":\n",
    "        print(\"Ticket has been booked\")\n",
    "        # return {\"ticket_status\": \"Successfully booked\"}\n",
    "        return \"Ticket has been booked\"\n",
    "\n",
    "history_store = []\n",
    "\n",
    "def chat(message, history):\n",
    "    global history_store\n",
    "\n",
    "    # Convert Gradio's history format to Anthropic format\n",
    "    messages = []\n",
    "    for turn in history_store:\n",
    "        messages.append({\"role\": \"user\", \"content\": turn[\"user\"]})\n",
    "        messages.append({\"role\": \"assistant\", \"content\": turn[\"assistant\"]})\n",
    "\n",
    "    messages.append({\"role\": \"user\", \"content\": message})\n",
    "    \n",
    "    response = client.messages.create(system=system_message, model=MODEL, max_tokens=1024, tools=tools, messages=messages)\n",
    "\n",
    "    assistant_response = \"\"\n",
    "    tool_call = None\n",
    "    \n",
    "    for block in response.content:\n",
    "        if block.type == \"text\":\n",
    "            assistant_response += block.text   \n",
    "        elif block.type == \"tool_use\":\n",
    "            tool_call = block        \n",
    "\n",
    "   # If tool is requested\n",
    "    if tool_call:\n",
    "        tool_result_data = execute_tool(tool_call.name, tool_call.input)\n",
    "\n",
    "        # Send tool output back to Claude\n",
    "        tool_followup = client.messages.create(\n",
    "            model=MODEL,\n",
    "            system=system_message,\n",
    "            max_tokens=1024,\n",
    "            messages=[\n",
    "                *messages,\n",
    "                {\n",
    "                    \"role\": \"assistant\",\n",
    "                    \"content\": [\n",
    "                        {\n",
    "                            \"type\": \"tool_use\",\n",
    "                            \"id\": tool_call.id,\n",
    "                            \"name\": tool_call.name,\n",
    "                            \"input\": tool_call.input\n",
    "                        }\n",
    "                    ]\n",
    "                },\n",
    "                {\n",
    "                    \"role\": \"user\",\n",
    "                    \"content\": [\n",
    "                        {\n",
    "                            \"type\": \"tool_result\",\n",
    "                            \"tool_use_id\": tool_call.id,\n",
    "                            \"content\": tool_result_data\n",
    "                        }\n",
    "                    ]\n",
    "                }\n",
    "            ]\n",
    "        )\n",
    "        \n",
    "        assistant_response = \"\".join(\n",
    "            block.text for block in tool_followup.content if block.type == \"text\"\n",
    "        )        \n",
    "\n",
    "    history_store.append({\"user\": message, \"assistant\": assistant_response})\n",
    "    \n",
    "    return assistant_response\n",
    "\n",
    "gr.ChatInterface(fn=chat, type=\"messages\").launch()"
   ]
  },
  {
   "cell_type": "markdown",
   "id": "fc7b5917-a3c4-4685-94eb-56da11d7d1bd",
   "metadata": {},
   "source": [
    "# Add translation functionality"
   ]
  },
  {
   "cell_type": "markdown",
   "id": "7683ca81-b7f7-4e92-a496-37eafdbe9cb0",
   "metadata": {},
   "source": [
    "Here, what I want to do is very simply copy the same functionality from OpenAI's chat, but just add an additional part which also translates and just adds the translation to a new line. Example below:\n",
    "\n",
    "```\n",
    "import gradio as gr\n",
    "from transformers import pipeline\n",
    "\n",
    "# Initialize translation pipeline (English to French)\n",
    "translator = pipeline(\"translation\", model=\"Helsinki-NLP/opus-mt-en-fr\")\n",
    "\n",
    "# Main chatbot response function\n",
    "def respond(message, history):\n",
    "    # Simulate LLM response (you can replace this with OpenAI or other LLM API call)\n",
    "    llm_response = f\"You said: {message}\"\n",
    "\n",
    "    # Translate the response to French\n",
    "    translation = translator(llm_response, max_length=100)[0]['translation_text']\n",
    "\n",
    "    # Combine original and translated response\n",
    "    full_response = f\"{llm_response}\\n\\n_Translated:_ {translation}\"\n",
    "\n",
    "    return full_response\n",
    "\n",
    "# Gradio ChatInterface\n",
    "chat = gr.ChatInterface(fn=respond, \n",
    "                        title=\"Bilingual Chat\",\n",
    "                        description=\"This chatbot replies and also translates its responses to French.\")\n",
    "\n",
    "chat.launch()\n",
    "```\n"
   ]
  },
  {
   "cell_type": "code",
   "execution_count": 1,
   "id": "8d91b71d-0280-4a1c-ba11-c9c63b0cf67c",
   "metadata": {},
   "outputs": [],
   "source": [
    "import os\n",
    "import json\n",
    "from dotenv import load_dotenv\n",
    "from openai import OpenAI\n",
    "import gradio as gr"
   ]
  },
  {
   "cell_type": "code",
   "execution_count": 2,
   "id": "a235545b-499f-47a4-b44f-87b7e0fcac77",
   "metadata": {},
   "outputs": [],
   "source": [
    "load_dotenv(override=True)\n",
    "\n",
    "openai_api_key = os.getenv('OPENAI_API_KEY')"
   ]
  },
  {
   "cell_type": "code",
   "execution_count": 11,
   "id": "6ec95a5a",
   "metadata": {},
   "outputs": [],
   "source": [
    "MODEL = \"gpt-4o-mini\"\n",
    "openai = OpenAI()"
   ]
  },
  {
   "cell_type": "code",
   "execution_count": 33,
   "id": "b2ee7a16",
   "metadata": {},
   "outputs": [],
   "source": [
    "system_message = \"You are a helpful assistant for an Airline called FlightAI. \"\n",
    "system_message += \"Give short, courteous answers, no more than 1 sentence. \"\n",
    "system_message += \"Always be accurate. If you don't know the answer, say so.\"\n",
    "system_message += \"You are also trying to teach Spanish. The user will se sending their english and spanish translation.\"\n",
    "system_message += \"Always reply back with an English and Spanish version of the response like this:\"\n",
    "system_message += \"Response: {English response}\"\n",
    "system_message += \"Translated: {Spanish response}\""
   ]
  },
  {
   "cell_type": "code",
   "execution_count": 34,
   "id": "4b6e8441",
   "metadata": {},
   "outputs": [],
   "source": [
    "### Price Tool\n",
    "\n",
    "ticket_prices = {\"london\": \"$799\", \"paris\": \"$899\", \"tokyo\": \"$1400\", \"berlin\": \"$499\"}\n",
    "\n",
    "def get_ticket_price(destination_city):\n",
    "    print(f\"Tool get_ticket_price called for {destination_city}\")\n",
    "    city = destination_city.lower()\n",
    "    return ticket_prices.get(city, \"Unknown\")\n",
    "\n",
    "price_function = {\n",
    "    \"name\": \"get_ticket_price\",\n",
    "    \"description\": \"Get the price of a return ticket to the destination city. Call this whenever you need to know the ticket price, for example when a customer asks 'How much is a ticket to this city'\",\n",
    "    \"parameters\": {\n",
    "        \"type\": \"object\",\n",
    "        \"properties\": {\n",
    "            \"destination_city\": {\n",
    "                \"type\": \"string\",\n",
    "                \"description\": \"The city that the customer wants to travel to\",\n",
    "            },\n",
    "        },\n",
    "        \"required\": [\"destination_city\"],\n",
    "        \"additionalProperties\": False\n",
    "    }\n",
    "}"
   ]
  },
  {
   "cell_type": "code",
   "execution_count": 35,
   "id": "1d91c084",
   "metadata": {},
   "outputs": [],
   "source": [
    "### Handle Price Tool\n",
    "\n",
    "def handle_price_tool_call(message):\n",
    "    tool_call = message.tool_calls[0]\n",
    "    arguments = json.loads(tool_call.function.arguments)\n",
    "    city = arguments.get('destination_city')\n",
    "    price = get_ticket_price(city)\n",
    "    response = {\n",
    "        \"role\": \"tool\",\n",
    "        \"content\": json.dumps({\"destination_city\": city,\"price\": price}),\n",
    "        \"tool_call_id\": tool_call.id\n",
    "    }\n",
    "    return response, city"
   ]
  },
  {
   "cell_type": "code",
   "execution_count": 36,
   "id": "750338cf",
   "metadata": {},
   "outputs": [],
   "source": [
    "### Booking Tool\n",
    "\n",
    "def book_flight():\n",
    "    print(\"Ticket has been booked\")\n",
    "    return {'status': 200}\n",
    "\n",
    "book_function = {\n",
    "    \"name\": \"book_flight\",\n",
    "    \"description\": \"Book a flight for a destination. Call this whenever the user requests to book the flight, for example when a customer asks 'Can you help me book tihs flight?'\",\n",
    "    \"parameters\": {}\n",
    "}"
   ]
  },
  {
   "cell_type": "code",
   "execution_count": 37,
   "id": "8b240fbf",
   "metadata": {},
   "outputs": [],
   "source": [
    "def handle_book_flight_call(message):\n",
    "    tool_call = message.tool_calls[0]\n",
    "    status = book_flight()\n",
    "    response = {\n",
    "        \"role\": \"tool\",\n",
    "        \"content\": json.dumps({\"status\": \"Ticket has been booked\"}),\n",
    "        \"tool_call_id\": tool_call.id\n",
    "    }\n",
    "    return response, status"
   ]
  },
  {
   "cell_type": "code",
   "execution_count": 38,
   "id": "854fbefe",
   "metadata": {},
   "outputs": [],
   "source": [
    "tools = [{\"type\": \"function\", \"function\": price_function}, {\"type\": \"function\", \"function\": book_function}]"
   ]
  },
  {
   "cell_type": "code",
   "execution_count": null,
   "id": "7c19ac62",
   "metadata": {},
   "outputs": [],
   "source": [
    "def chat(message, history):\n",
    "    messages = [{\"role\": \"system\", \"content\": system_message}] + history + [{\"role\": \"user\", \"content\": message}]\n",
    "    response = openai.chat.completions.create(model=MODEL, messages=messages, tools=tools)\n",
    "    \n",
    "    if response.choices[0].finish_reason==\"tool_calls\":\n",
    "        if response.choices[0].message.tool_calls[0].function.name==\"get_ticket_price\":\n",
    "            message = response.choices[0].message\n",
    "            response, city = handle_price_tool_call(message)\n",
    "            messages.append(message)\n",
    "            messages.append(response)\n",
    "            response = openai.chat.completions.create(model=MODEL, messages=messages)\n",
    "        elif response.choices[0].message.tool_calls[0].function.name==\"book_flight\":\n",
    "            message = response.choices[0].message \n",
    "            response, status = handle_book_flight_call(message)\n",
    "            messages.append(message)\n",
    "            messages.append(response)\n",
    "            response = openai.chat.completions.create(model=MODEL, messages=messages)\n",
    "    \n",
    "    return response.choices[0].message.content"
   ]
  },
  {
   "cell_type": "code",
   "execution_count": null,
   "id": "0f9a8bdc",
   "metadata": {},
   "outputs": [
    {
     "name": "stdout",
     "output_type": "stream",
     "text": [
      "* Running on local URL:  http://127.0.0.1:7876\n",
      "* To create a public link, set `share=True` in `launch()`.\n"
     ]
    },
    {
     "data": {
      "text/html": [
       "<div><iframe src=\"http://127.0.0.1:7876/\" width=\"100%\" height=\"500\" allow=\"autoplay; camera; microphone; clipboard-read; clipboard-write;\" frameborder=\"0\" allowfullscreen></iframe></div>"
      ],
      "text/plain": [
       "<IPython.core.display.HTML object>"
      ]
     },
     "metadata": {},
     "output_type": "display_data"
    },
    {
     "data": {
      "text/plain": []
     },
     "execution_count": 40,
     "metadata": {},
     "output_type": "execute_result"
    },
    {
     "name": "stdout",
     "output_type": "stream",
     "text": [
      "Tool get_ticket_price called for Paris\n",
      "Ticket has been booked\n"
     ]
    }
   ],
   "source": [
    "gr.ChatInterface(fn=chat, type=\"messages\").launch()"
   ]
  },
  {
   "cell_type": "markdown",
   "id": "5fef2aaf",
   "metadata": {},
   "source": [
    "# Agent to listen for Audio and convert to Text"
   ]
  },
  {
   "cell_type": "markdown",
   "id": "b5ecba4f",
   "metadata": {},
   "source": []
  }
 ],
 "metadata": {
  "kernelspec": {
   "display_name": ".venv",
   "language": "python",
   "name": "python3"
  },
  "language_info": {
   "codemirror_mode": {
    "name": "ipython",
    "version": 3
   },
   "file_extension": ".py",
   "mimetype": "text/x-python",
   "name": "python",
   "nbconvert_exporter": "python",
   "pygments_lexer": "ipython3",
   "version": "3.11.9"
  }
 },
 "nbformat": 4,
 "nbformat_minor": 5
}
